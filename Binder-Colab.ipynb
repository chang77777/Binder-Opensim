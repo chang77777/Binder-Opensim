{
 "cells": [
  {
   "cell_type": "code",
   "execution_count": 12,
   "id": "7e7bb229",
   "metadata": {},
   "outputs": [
    {
     "name": "stdout",
     "output_type": "stream",
     "text": [
      "[WinError 3] 系统找不到指定的路径。: './OpenSim 4.3/sdk/Python'\n",
      "C:\\OpenSim 4.3\\sdk\\Python\n"
     ]
    }
   ],
   "source": [
    "cd ./OpenSim 4.3/sdk/Python"
   ]
  },
  {
   "cell_type": "code",
   "execution_count": 5,
   "id": "8c02a886",
   "metadata": {},
   "outputs": [
    {
     "name": "stdout",
     "output_type": "stream",
     "text": [
      "install path found as C:/OpenSim 4.3/bin\n"
     ]
    }
   ],
   "source": [
    "!python setup_win_python38.py"
   ]
  },
  {
   "cell_type": "code",
   "execution_count": 6,
   "id": "b8955160",
   "metadata": {},
   "outputs": [
    {
     "name": "stdout",
     "output_type": "stream",
     "text": [
      "Processing c:\\opensim 4.3\\sdk\\python\n",
      "Building wheels for collected packages: opensim\n",
      "  Building wheel for opensim (setup.py): started\n",
      "  Building wheel for opensim (setup.py): finished with status 'done'\n",
      "  Created wheel for opensim: filename=opensim-4.3-py3-none-any.whl size=9888466 sha256=efe4c24e2a469738b1998dbdc2837b485aa23465febd4466515b4075d47d1d1d\n",
      "  Stored in directory: C:\\Users\\peter\\AppData\\Local\\Temp\\pip-ephem-wheel-cache-_ra2kcoi\\wheels\\f6\\59\\11\\b20c467c1491ec48a9e7303f4f7a8223d68d35c0c35116c04e\n",
      "Successfully built opensim\n",
      "Installing collected packages: opensim\n",
      "Successfully installed opensim-4.3\n"
     ]
    },
    {
     "name": "stderr",
     "output_type": "stream",
     "text": [
      "  DEPRECATION: A future pip version will change local packages to be built in-place without first copying to a temporary directory. We recommend you use --use-feature=in-tree-build to test your packages with this new behavior before it becomes the default.\n",
      "   pip 21.3 will remove support for this functionality. You can find discussion regarding this at https://github.com/pypa/pip/issues/7555.\n"
     ]
    }
   ],
   "source": [
    "!python -m pip install ."
   ]
  },
  {
   "cell_type": "code",
   "execution_count": 7,
   "id": "b7336eee",
   "metadata": {},
   "outputs": [],
   "source": [
    "import opensim as osim"
   ]
  },
  {
   "cell_type": "code",
   "execution_count": 8,
   "id": "b220679e",
   "metadata": {},
   "outputs": [
    {
     "data": {
      "text/plain": [
       "'version 4.3-2021-08-27-4bc7ad9, build date 02:30:27 Aug 28 2021'"
      ]
     },
     "execution_count": 8,
     "metadata": {},
     "output_type": "execute_result"
    }
   ],
   "source": [
    "osim.GetVersionAndDate()"
   ]
  },
  {
   "cell_type": "code",
   "execution_count": null,
   "id": "54c08c5f",
   "metadata": {},
   "outputs": [],
   "source": []
  }
 ],
 "metadata": {
  "kernelspec": {
   "display_name": "Python 3 (ipykernel)",
   "language": "python",
   "name": "python3"
  },
  "language_info": {
   "codemirror_mode": {
    "name": "ipython",
    "version": 3
   },
   "file_extension": ".py",
   "mimetype": "text/x-python",
   "name": "python",
   "nbconvert_exporter": "python",
   "pygments_lexer": "ipython3",
   "version": "3.8.12"
  }
 },
 "nbformat": 4,
 "nbformat_minor": 5
}
